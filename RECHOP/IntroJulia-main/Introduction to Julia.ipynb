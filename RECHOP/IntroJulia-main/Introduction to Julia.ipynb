{
 "cells": [
  {
   "cell_type": "markdown",
   "metadata": {},
   "source": [
    "# Introduction to Julia"
   ]
  },
  {
   "cell_type": "markdown",
   "metadata": {},
   "source": [
    "Julia is a recent programming language that aims at combining high performance with ease of use. It is increasingly popular in the optimization community."
   ]
  },
  {
   "cell_type": "markdown",
   "metadata": {},
   "source": [
    "## 0. Preliminaries"
   ]
  },
  {
   "cell_type": "markdown",
   "metadata": {},
   "source": [
    "In this Jupyter notebook, you have access to a structured equivalent of Julia's REPL, i.e. the interactive console. Here, you can divide your code in cells to modify and run each one separately (use `Shift`+`Enter` to run a cell and move to the next one). By default, the output of a cell is the value of its last expression, you can hide it by ending the cell with `;`."
   ]
  },
  {
   "cell_type": "code",
   "execution_count": 1,
   "metadata": {
    "ExecuteTime": {
     "end_time": "2020-11-09T10:50:12.510000+01:00",
     "start_time": "2020-11-09T09:50:11.606Z"
    }
   },
   "outputs": [
    {
     "data": {
      "text/plain": [
       "3"
      ]
     },
     "execution_count": 1,
     "metadata": {},
     "output_type": "execute_result"
    }
   ],
   "source": [
    "1 + 2"
   ]
  },
  {
   "cell_type": "markdown",
   "metadata": {},
   "source": [
    "**This tutorial is quite long, especially the first part. If you want, you can skip directly to part 2 or even 3, and come back to the beginning when you don't know how to do something.**\n",
    "\n",
    "Although we will introduce some useful commands, we cannot describe all of them. A very good summary can be found at https://juliadocs.github.io/Julia-Cheat-Sheet/, and we will often refer the reader to it."
   ]
  },
  {
   "cell_type": "markdown",
   "metadata": {},
   "source": [
    "### Differences with Python"
   ]
  },
  {
   "cell_type": "markdown",
   "metadata": {},
   "source": [
    "For those who already master Python, here are the key novelties of Julia:\n",
    "- Even though they are not necessary, types are heavily used to make the code both clearer and faster.\n",
    "- There are no classes, only \"structures\" which contain data but no methods.\n",
    "- Blocks are not based on indentation but delimited by the `end` keyword.\n",
    "- Array indexing starts at `a[1]` instead of `a[0]`, and ranges `i:j` include the last index.\n",
    "- Vectorizing the code doesn't improve its speed.\n",
    "\n",
    "A more exhaustive list is available at https://docs.julialang.org/en/v1/manual/noteworthy-differences/#Noteworthy-differences-from-Python."
   ]
  },
  {
   "cell_type": "markdown",
   "metadata": {},
   "source": [
    "### Compilation"
   ]
  },
  {
   "cell_type": "markdown",
   "metadata": {},
   "source": [
    "When you run a chunk of code for the first time, it takes longer due to compilation. Don't be surprised, it is fundamental to Julia's performance, and the following runs are much faster."
   ]
  },
  {
   "cell_type": "markdown",
   "metadata": {},
   "source": [
    "### Imports"
   ]
  },
  {
   "cell_type": "markdown",
   "metadata": {},
   "source": [
    "A package can be imported with the keyword `using ...`, which makes all of its functions available without prefix (similar to the Python code `from ... import *`). If you want to keep prefixes, use `import ...` instead.\n",
    "\n",
    "Before a package can be imported, it must be installed. Here we install all the packages we will need during this tutorial. The following cell may take a while to run, especially with a slow internet connection."
   ]
  },
  {
   "cell_type": "code",
   "execution_count": 2,
   "metadata": {
    "ExecuteTime": {
     "end_time": "2020-11-09T10:50:29.237000+01:00",
     "start_time": "2020-11-09T09:50:15.298Z"
    }
   },
   "outputs": [
    {
     "name": "stderr",
     "output_type": "stream",
     "text": [
      "\u001b[32m\u001b[1m   Updating\u001b[22m\u001b[39m registry at `C:\\Users\\Wael\\.julia\\registries\\General`\n",
      "\u001b[32m\u001b[1m  Installed\u001b[22m\u001b[39m JSONSchema ───────── v0.3.3\n",
      "\u001b[32m\u001b[1m  Installed\u001b[22m\u001b[39m Compat ───────────── v3.25.0\n",
      "\u001b[32m\u001b[1m  Installed\u001b[22m\u001b[39m ArnoldiMethod ────── v0.0.2\n",
      "\u001b[32m\u001b[1m  Installed\u001b[22m\u001b[39m GLPK ─────────────── v0.14.4\n",
      "\u001b[32m\u001b[1m  Installed\u001b[22m\u001b[39m Plots ────────────── v1.10.0\n",
      "\u001b[32m\u001b[1m  Installed\u001b[22m\u001b[39m Atom ─────────────── v0.12.30\n",
      "\u001b[32m\u001b[1m  Installed\u001b[22m\u001b[39m LightGraphs ──────── v1.3.4\n",
      "\u001b[32m\u001b[1m  Installed\u001b[22m\u001b[39m Requires ─────────── v1.1.2\n",
      "\u001b[32m\u001b[1m  Installed\u001b[22m\u001b[39m MutableArithmetics ─ v0.2.13\n",
      "\u001b[32m\u001b[1m  Installed\u001b[22m\u001b[39m JLLWrappers ──────── v1.1.4\n",
      "\u001b[32m\u001b[1m  Installed\u001b[22m\u001b[39m NaNMath ──────────── v0.3.5\n",
      "\u001b[32m\u001b[1m  Installed\u001b[22m\u001b[39m FlameGraphs ──────── v0.2.5\n",
      "\u001b[32m\u001b[1m  Installed\u001b[22m\u001b[39m Contour ──────────── v0.5.7\n",
      "\u001b[32m\u001b[1m  Installed\u001b[22m\u001b[39m Formatting ───────── v0.4.2\n",
      "\u001b[32m\u001b[1m  Installed\u001b[22m\u001b[39m JuliaInterpreter ─── v0.8.8\n",
      "\u001b[32m\u001b[1m  Installed\u001b[22m\u001b[39m Tables ───────────── v1.2.2\n",
      "\u001b[32m\u001b[1m  Installed\u001b[22m\u001b[39m URIs ─────────────── v1.1.0\n",
      "\u001b[32m\u001b[1m  Installed\u001b[22m\u001b[39m DiffResults ──────── v1.0.3\n",
      "\u001b[32m\u001b[1m  Installed\u001b[22m\u001b[39m FileIO ───────────── v1.4.5\n",
      "\u001b[32m\u001b[1m  Installed\u001b[22m\u001b[39m StaticArrays ─────── v1.0.1\n",
      "\u001b[32m\u001b[1m  Installed\u001b[22m\u001b[39m HTTP ─────────────── v0.9.2\n",
      "\u001b[32m\u001b[1m  Installed\u001b[22m\u001b[39m Parsers ──────────── v1.0.15\n",
      "\u001b[32m\u001b[1m  Installed\u001b[22m\u001b[39m Observables ──────── v0.3.3\n",
      "\u001b[32m\u001b[1m  Installed\u001b[22m\u001b[39m GR ───────────────── v0.49.1\n",
      "\u001b[32m\u001b[1m  Installed\u001b[22m\u001b[39m ForwardDiff ──────── v0.10.14\n",
      "\u001b[32m\u001b[1m  Installed\u001b[22m\u001b[39m Documenter ───────── v0.25.5\n",
      "\u001b[32m\u001b[1m  Installed\u001b[22m\u001b[39m ChainRulesCore ───── v0.9.24\n",
      "\u001b[32m\u001b[1m  Installed\u001b[22m\u001b[39m FuzzyCompletions ─── v0.4.0\n",
      "\u001b[32m\u001b[1m  Installed\u001b[22m\u001b[39m Colors ───────────── v0.12.6\n",
      "\u001b[32m\u001b[1m  Installed\u001b[22m\u001b[39m WebSockets ───────── v1.5.7\n",
      "\u001b[32m\u001b[1m  Installed\u001b[22m\u001b[39m Latexify ─────────── v0.14.7\n",
      "\u001b[32m\u001b[1m  Installed\u001b[22m\u001b[39m MuladdMacro ──────── v0.2.2\n",
      "\u001b[32m\u001b[1m  Installed\u001b[22m\u001b[39m ColorSchemes ─────── v3.10.2\n",
      "\u001b[32m\u001b[1m  Installed\u001b[22m\u001b[39m PlotUtils ────────── v1.0.8\n",
      "\u001b[32m\u001b[1m  Installed\u001b[22m\u001b[39m SpecialFunctions ─── v1.2.1\n",
      "\u001b[32m\u001b[1m  Installed\u001b[22m\u001b[39m Adapt ────────────── v2.4.0\n",
      "\u001b[32m\u001b[1m  Installed\u001b[22m\u001b[39m GeometryBasics ───── v0.3.5\n",
      "\u001b[32m\u001b[1m  Installed\u001b[22m\u001b[39m MathOptInterface ─── v0.9.19\n",
      "\u001b[32m\u001b[1m  Installed\u001b[22m\u001b[39m JuliaFormatter ───── v0.12.2\n",
      "\u001b[32m\u001b[1mUpdating\u001b[22m\u001b[39m `C:\\Users\\Wael\\.julia\\environments\\v1.5\\Project.toml`\n",
      " \u001b[90m [c52e3926] \u001b[39m\u001b[93m↑ Atom v0.12.25 ⇒ v0.12.30\u001b[39m\n",
      " \u001b[90m [60bf3e95] \u001b[39m\u001b[93m↑ GLPK v0.14.2 ⇒ v0.14.4\u001b[39m\n",
      " \u001b[90m [093fc24a] \u001b[39m\u001b[93m↑ LightGraphs v1.3.0 ⇒ v1.3.4\u001b[39m\n",
      " \u001b[90m [91a5bcdd] \u001b[39m\u001b[93m↑ Plots v1.9.1 ⇒ v1.10.0\u001b[39m\n",
      "\u001b[32m\u001b[1mUpdating\u001b[22m\u001b[39m `C:\\Users\\Wael\\.julia\\environments\\v1.5\\Manifest.toml`\n",
      " \u001b[90m [79e6a3ab] \u001b[39m\u001b[93m↑ Adapt v2.3.0 ⇒ v2.4.0\u001b[39m\n",
      " \u001b[90m [ec485272] \u001b[39m\u001b[95m↓ ArnoldiMethod v0.0.4 ⇒ v0.0.2\u001b[39m\n",
      " \u001b[90m [c52e3926] \u001b[39m\u001b[93m↑ Atom v0.12.25 ⇒ v0.12.30\u001b[39m\n",
      " \u001b[90m [83423d85] \u001b[39m\u001b[91m- Cairo_jll v1.16.0+6\u001b[39m\n",
      " \u001b[90m [d360d2e6] \u001b[39m\u001b[92m+ ChainRulesCore v0.9.24\u001b[39m\n",
      " \u001b[90m [35d6a980] \u001b[39m\u001b[93m↑ ColorSchemes v3.10.1 ⇒ v3.10.2\u001b[39m\n",
      " \u001b[90m [5ae59095] \u001b[39m\u001b[93m↑ Colors v0.12.4 ⇒ v0.12.6\u001b[39m\n",
      " \u001b[90m [34da2185] \u001b[39m\u001b[93m↑ Compat v3.23.0 ⇒ v3.25.0\u001b[39m\n",
      " \u001b[90m [d38c429a] \u001b[39m\u001b[93m↑ Contour v0.5.6 ⇒ v0.5.7\u001b[39m\n",
      " \u001b[90m [163ba53b] \u001b[39m\u001b[93m↑ DiffResults v1.0.2 ⇒ v1.0.3\u001b[39m\n",
      " \u001b[90m [e30172f5] \u001b[39m\u001b[93m↑ Documenter v0.25.3 ⇒ v0.25.5\u001b[39m\n",
      " \u001b[90m [2e619515] \u001b[39m\u001b[91m- Expat_jll v2.2.7+6\u001b[39m\n",
      " \u001b[90m [5789e2e9] \u001b[39m\u001b[93m↑ FileIO v1.4.4 ⇒ v1.4.5\u001b[39m\n",
      " \u001b[90m [08572546] \u001b[39m\u001b[93m↑ FlameGraphs v0.2.4 ⇒ v0.2.5\u001b[39m\n",
      " \u001b[90m [a3f928ae] \u001b[39m\u001b[91m- Fontconfig_jll v2.13.1+14\u001b[39m\n",
      " \u001b[90m [59287772] \u001b[39m\u001b[93m↑ Formatting v0.4.1 ⇒ v0.4.2\u001b[39m\n",
      " \u001b[90m [f6369f11] \u001b[39m\u001b[93m↑ ForwardDiff v0.10.12 ⇒ v0.10.14\u001b[39m\n",
      " \u001b[90m [fb4132e2] \u001b[39m\u001b[93m↑ FuzzyCompletions v0.2.6 ⇒ v0.4.0\u001b[39m\n",
      " \u001b[90m [0656b61e] \u001b[39m\u001b[91m- GLFW_jll v3.3.2+1\u001b[39m\n",
      " \u001b[90m [60bf3e95] \u001b[39m\u001b[93m↑ GLPK v0.14.2 ⇒ v0.14.4\u001b[39m\n",
      " \u001b[90m [28b8d3ca] \u001b[39m\u001b[95m↓ GR v0.53.0 ⇒ v0.49.1\u001b[39m\n",
      " \u001b[90m [d2c73de3] \u001b[39m\u001b[91m- GR_jll v0.52.0+0\u001b[39m\n",
      " \u001b[90m [5c1252a2] \u001b[39m\u001b[93m↑ GeometryBasics v0.3.3 ⇒ v0.3.5\u001b[39m\n",
      " \u001b[90m [78b55507] \u001b[39m\u001b[91m- Gettext_jll v0.20.1+7\u001b[39m\n",
      " \u001b[90m [7746bdde] \u001b[39m\u001b[91m- Glib_jll v2.59.0+4\u001b[39m\n",
      " \u001b[90m [cd3eb016] \u001b[39m\u001b[93m↑ HTTP v0.8.19 ⇒ v0.9.2\u001b[39m\n",
      " \u001b[90m [692b3bcd] \u001b[39m\u001b[93m↑ JLLWrappers v1.1.3 ⇒ v1.1.4\u001b[39m\n",
      " \u001b[90m [7d188eb4] \u001b[39m\u001b[93m↑ JSONSchema v0.3.2 ⇒ v0.3.3\u001b[39m\n",
      " \u001b[90m [aacddb02] \u001b[39m\u001b[91m- JpegTurbo_jll v2.0.1+3\u001b[39m\n",
      " \u001b[90m [98e50ef6] \u001b[39m\u001b[93m↑ JuliaFormatter v0.10.8 ⇒ v0.12.2\u001b[39m\n",
      " \u001b[90m [aa1ae85d] \u001b[39m\u001b[93m↑ JuliaInterpreter v0.8.3 ⇒ v0.8.8\u001b[39m\n",
      " \u001b[90m [dd4b983a] \u001b[39m\u001b[91m- LZO_jll v2.10.0+3\u001b[39m\n",
      " \u001b[90m [23fbe1c1] \u001b[39m\u001b[93m↑ Latexify v0.14.5 ⇒ v0.14.7\u001b[39m\n",
      " \u001b[90m [e9f186c6] \u001b[39m\u001b[91m- Libffi_jll v3.2.1+4\u001b[39m\n",
      " \u001b[90m [d4300ac3] \u001b[39m\u001b[91m- Libgcrypt_jll v1.8.5+4\u001b[39m\n",
      " \u001b[90m [7e76a0d4] \u001b[39m\u001b[91m- Libglvnd_jll v1.3.0+3\u001b[39m\n",
      " \u001b[90m [7add5ba3] \u001b[39m\u001b[91m- Libgpg_error_jll v1.36.0+3\u001b[39m\n",
      " \u001b[90m [94ce4f54] \u001b[39m\u001b[91m- Libiconv_jll v1.16.0+7\u001b[39m\n",
      " \u001b[90m [4b2f31a3] \u001b[39m\u001b[91m- Libmount_jll v2.34.0+3\u001b[39m\n",
      " \u001b[90m [89763e89] \u001b[39m\u001b[91m- Libtiff_jll v4.1.0+2\u001b[39m\n",
      " \u001b[90m [38a345b3] \u001b[39m\u001b[91m- Libuuid_jll v2.34.0+7\u001b[39m\n",
      " \u001b[90m [093fc24a] \u001b[39m\u001b[93m↑ LightGraphs v1.3.0 ⇒ v1.3.4\u001b[39m\n",
      " \u001b[90m [b8f27783] \u001b[39m\u001b[93m↑ MathOptInterface v0.9.18 ⇒ v0.9.19\u001b[39m\n",
      " \u001b[90m [46d2c3a1] \u001b[39m\u001b[92m+ MuladdMacro v0.2.2\u001b[39m\n",
      " \u001b[90m [d8a4904e] \u001b[39m\u001b[93m↑ MutableArithmetics v0.2.12 ⇒ v0.2.13\u001b[39m\n",
      " \u001b[90m [77ba4419] \u001b[39m\u001b[93m↑ NaNMath v0.3.4 ⇒ v0.3.5\u001b[39m\n",
      " \u001b[90m [510215fc] \u001b[39m\u001b[93m↑ Observables v0.3.2 ⇒ v0.3.3\u001b[39m\n",
      " \u001b[90m [2f80f16e] \u001b[39m\u001b[91m- PCRE_jll v8.42.0+4\u001b[39m\n",
      " \u001b[90m [69de0a69] \u001b[39m\u001b[93m↑ Parsers v1.0.12 ⇒ v1.0.15\u001b[39m\n",
      " \u001b[90m [30392449] \u001b[39m\u001b[91m- Pixman_jll v0.38.4+5\u001b[39m\n",
      " \u001b[90m [995b91a9] \u001b[39m\u001b[93m↑ PlotUtils v1.0.7 ⇒ v1.0.8\u001b[39m\n",
      " \u001b[90m [91a5bcdd] \u001b[39m\u001b[93m↑ Plots v1.9.1 ⇒ v1.10.0\u001b[39m\n",
      " \u001b[90m [784f63db] \u001b[39m\u001b[91m- Qhull_jll v2019.1.0+2\u001b[39m\n",
      " \u001b[90m [ede63266] \u001b[39m\u001b[91m- Qt_jll v5.15.0+3\u001b[39m\n",
      " \u001b[90m [ae029012] \u001b[39m\u001b[93m↑ Requires v1.1.1 ⇒ v1.1.2\u001b[39m\n",
      " \u001b[90m [276daf66] \u001b[39m\u001b[93m↑ SpecialFunctions v0.10.3 ⇒ v1.2.1\u001b[39m\n",
      " \u001b[90m [90137ffa] \u001b[39m\u001b[93m↑ StaticArrays v0.12.5 ⇒ v1.0.1\u001b[39m\n",
      " \u001b[90m [bd369af6] \u001b[39m\u001b[93m↑ Tables v1.2.1 ⇒ v1.2.2\u001b[39m\n",
      " \u001b[90m [5c2747f8] \u001b[39m\u001b[92m+ URIs v1.1.0\u001b[39m\n",
      " \u001b[90m [a2964d1f] \u001b[39m\u001b[91m- Wayland_jll v1.17.0+4\u001b[39m\n",
      " \u001b[90m [2381bf8a] \u001b[39m\u001b[91m- Wayland_protocols_jll v1.18.0+4\u001b[39m\n",
      " \u001b[90m [104b5d7c] \u001b[39m\u001b[93m↑ WebSockets v1.5.2 ⇒ v1.5.7\u001b[39m\n",
      " \u001b[90m [02c8fc9c] \u001b[39m\u001b[91m- XML2_jll v2.9.10+3\u001b[39m\n",
      " \u001b[90m [aed1982a] \u001b[39m\u001b[91m- XSLT_jll v1.1.33+4\u001b[39m\n",
      " \u001b[90m [4f6342f7] \u001b[39m\u001b[91m- Xorg_libX11_jll v1.6.9+4\u001b[39m\n",
      " \u001b[90m [0c0b7dd1] \u001b[39m\u001b[91m- Xorg_libXau_jll v1.0.9+4\u001b[39m\n",
      " \u001b[90m [935fb764] \u001b[39m\u001b[91m- Xorg_libXcursor_jll v1.2.0+4\u001b[39m\n",
      " \u001b[90m [a3789734] \u001b[39m\u001b[91m- Xorg_libXdmcp_jll v1.1.3+4\u001b[39m\n",
      " \u001b[90m [1082639a] \u001b[39m\u001b[91m- Xorg_libXext_jll v1.3.4+4\u001b[39m\n",
      " \u001b[90m [d091e8ba] \u001b[39m\u001b[91m- Xorg_libXfixes_jll v5.0.3+4\u001b[39m\n",
      " \u001b[90m [a51aa0fd] \u001b[39m\u001b[91m- Xorg_libXi_jll v1.7.10+4\u001b[39m\n",
      " \u001b[90m [d1454406] \u001b[39m\u001b[91m- Xorg_libXinerama_jll v1.1.4+4\u001b[39m\n",
      " \u001b[90m [ec84b674] \u001b[39m\u001b[91m- Xorg_libXrandr_jll v1.5.2+4\u001b[39m\n",
      " \u001b[90m [ea2f1a96] \u001b[39m\u001b[91m- Xorg_libXrender_jll v0.9.10+4\u001b[39m\n",
      " \u001b[90m [14d82f49] \u001b[39m\u001b[91m- Xorg_libpthread_stubs_jll v0.1.0+3\u001b[39m\n",
      " \u001b[90m [c7cfdc94] \u001b[39m\u001b[91m- Xorg_libxcb_jll v1.13.0+3\u001b[39m\n",
      " \u001b[90m [cc61e674] \u001b[39m\u001b[91m- Xorg_libxkbfile_jll v1.1.0+4\u001b[39m\n",
      " \u001b[90m [12413925] \u001b[39m\u001b[91m- Xorg_xcb_util_image_jll v0.4.0+1\u001b[39m\n",
      " \u001b[90m [2def613f] \u001b[39m\u001b[91m- Xorg_xcb_util_jll v0.4.0+1\u001b[39m\n",
      " \u001b[90m [975044d2] \u001b[39m\u001b[91m- Xorg_xcb_util_keysyms_jll v0.4.0+1\u001b[39m\n",
      " \u001b[90m [0d47668e] \u001b[39m\u001b[91m- Xorg_xcb_util_renderutil_jll v0.3.9+1\u001b[39m\n",
      " \u001b[90m [c22f9ab0] \u001b[39m\u001b[91m- Xorg_xcb_util_wm_jll v0.4.1+1\u001b[39m\n",
      " \u001b[90m [35661453] \u001b[39m\u001b[91m- Xorg_xkbcomp_jll v1.4.2+4\u001b[39m\n",
      " \u001b[90m [33bec58e] \u001b[39m\u001b[91m- Xorg_xkeyboard_config_jll v2.27.0+4\u001b[39m\n",
      " \u001b[90m [c5fb5394] \u001b[39m\u001b[91m- Xorg_xtrans_jll v1.4.0+3\u001b[39m\n",
      " \u001b[90m [3161d3a3] \u001b[39m\u001b[91m- Zstd_jll v1.4.5+2\u001b[39m\n",
      " \u001b[90m [b53b4c65] \u001b[39m\u001b[91m- libpng_jll v1.6.37+6\u001b[39m\n",
      " \u001b[90m [d8fb68d0] \u001b[39m\u001b[91m- xkbcommon_jll v0.9.1+5\u001b[39m\n",
      "\u001b[32m\u001b[1m   Building\u001b[22m\u001b[39m GLPK → `C:\\Users\\Wael\\.julia\\packages\\GLPK\\G3GZQ\\deps\\build.log`\n",
      "\u001b[32m\u001b[1m   Building\u001b[22m\u001b[39m GR ──→ `C:\\Users\\Wael\\.julia\\packages\\GR\\cRdXQ\\deps\\build.log`\n",
      "\u001b[32m\u001b[1m  Resolving\u001b[22m\u001b[39m package versions...\n",
      "\u001b[32m\u001b[1m  Installed\u001b[22m\u001b[39m PyPlot ───── v2.9.0\n",
      "\u001b[32m\u001b[1m  Installed\u001b[22m\u001b[39m GR_jll ───── v0.53.0+0\n",
      "\u001b[32m\u001b[1m  Installed\u001b[22m\u001b[39m Pixman_jll ─ v0.40.0+0\n",
      "\u001b[32m\u001b[1m  Installed\u001b[22m\u001b[39m Compose ──── v0.9.1\n",
      "\u001b[32m\u001b[1m  Installed\u001b[22m\u001b[39m PyCall ───── v1.92.1\n",
      "\u001b[32m\u001b[1m  Installed\u001b[22m\u001b[39m Qt_jll ───── v5.15.2+1\n",
      "\u001b[32m\u001b[1m  Installed\u001b[22m\u001b[39m GraphPlot ── v0.4.4\n",
      "\u001b[32m\u001b[1mUpdating\u001b[22m\u001b[39m `C:\\Users\\Wael\\.julia\\environments\\v1.5\\Project.toml`\n",
      " \u001b[90m [6e4b80f9] \u001b[39m\u001b[92m+ BenchmarkTools v0.5.0\u001b[39m\n",
      " \u001b[90m [a2cc645c] \u001b[39m\u001b[92m+ GraphPlot v0.4.4\u001b[39m\n",
      " \u001b[90m [d330b81b] \u001b[39m\u001b[92m+ PyPlot v2.9.0\u001b[39m\n",
      "\u001b[32m\u001b[1mUpdating\u001b[22m\u001b[39m `C:\\Users\\Wael\\.julia\\environments\\v1.5\\Manifest.toml`\n",
      " \u001b[90m [ec485272] \u001b[39m\u001b[93m↑ ArnoldiMethod v0.0.2 ⇒ v0.0.4\u001b[39m\n",
      " \u001b[90m [83423d85] \u001b[39m\u001b[92m+ Cairo_jll v1.16.0+6\u001b[39m\n",
      " \u001b[90m [a81c6b42] \u001b[39m\u001b[92m+ Compose v0.9.1\u001b[39m\n",
      " \u001b[90m [2e619515] \u001b[39m\u001b[92m+ Expat_jll v2.2.7+6\u001b[39m\n",
      " \u001b[90m [a3f928ae] \u001b[39m\u001b[92m+ Fontconfig_jll v2.13.1+14\u001b[39m\n",
      " \u001b[90m [0656b61e] \u001b[39m\u001b[92m+ GLFW_jll v3.3.2+1\u001b[39m\n",
      " \u001b[90m [28b8d3ca] \u001b[39m\u001b[93m↑ GR v0.49.1 ⇒ v0.53.0\u001b[39m\n",
      " \u001b[90m [d2c73de3] \u001b[39m\u001b[92m+ GR_jll v0.53.0+0\u001b[39m\n",
      " \u001b[90m [78b55507] \u001b[39m\u001b[92m+ Gettext_jll v0.20.1+7\u001b[39m\n",
      " \u001b[90m [7746bdde] \u001b[39m\u001b[92m+ Glib_jll v2.59.0+4\u001b[39m\n",
      " \u001b[90m [a2cc645c] \u001b[39m\u001b[92m+ GraphPlot v0.4.4\u001b[39m\n",
      " \u001b[90m [cd3eb016] \u001b[39m\u001b[95m↓ HTTP v0.9.2 ⇒ v0.8.19\u001b[39m\n",
      " \u001b[90m [aacddb02] \u001b[39m\u001b[92m+ JpegTurbo_jll v2.0.1+3\u001b[39m\n",
      " \u001b[90m [dd4b983a] \u001b[39m\u001b[92m+ LZO_jll v2.10.0+3\u001b[39m\n",
      " \u001b[90m [e9f186c6] \u001b[39m\u001b[92m+ Libffi_jll v3.2.1+4\u001b[39m\n",
      " \u001b[90m [d4300ac3] \u001b[39m\u001b[92m+ Libgcrypt_jll v1.8.5+4\u001b[39m\n",
      " \u001b[90m [7e76a0d4] \u001b[39m\u001b[92m+ Libglvnd_jll v1.3.0+3\u001b[39m\n",
      " \u001b[90m [7add5ba3] \u001b[39m\u001b[92m+ Libgpg_error_jll v1.36.0+3\u001b[39m\n",
      " \u001b[90m [94ce4f54] \u001b[39m\u001b[92m+ Libiconv_jll v1.16.0+7\u001b[39m\n",
      " \u001b[90m [4b2f31a3] \u001b[39m\u001b[92m+ Libmount_jll v2.34.0+3\u001b[39m\n",
      " \u001b[90m [89763e89] \u001b[39m\u001b[92m+ Libtiff_jll v4.1.0+2\u001b[39m\n",
      " \u001b[90m [38a345b3] \u001b[39m\u001b[92m+ Libuuid_jll v2.34.0+7\u001b[39m\n",
      " \u001b[90m [2f80f16e] \u001b[39m\u001b[92m+ PCRE_jll v8.42.0+4\u001b[39m\n",
      " \u001b[90m [30392449] \u001b[39m\u001b[92m+ Pixman_jll v0.40.0+0\u001b[39m\n",
      " \u001b[90m [438e738f] \u001b[39m\u001b[92m+ PyCall v1.92.1\u001b[39m\n",
      " \u001b[90m [d330b81b] \u001b[39m\u001b[92m+ PyPlot v2.9.0\u001b[39m\n",
      " \u001b[90m [ede63266] \u001b[39m\u001b[92m+ Qt_jll v5.15.2+1\u001b[39m\n",
      " \u001b[90m [90137ffa] \u001b[39m\u001b[95m↓ StaticArrays v1.0.1 ⇒ v0.12.5\u001b[39m\n",
      " \u001b[90m [5c2747f8] \u001b[39m\u001b[91m- URIs v1.1.0\u001b[39m\n",
      " \u001b[90m [a2964d1f] \u001b[39m\u001b[92m+ Wayland_jll v1.17.0+4\u001b[39m\n",
      " \u001b[90m [2381bf8a] \u001b[39m\u001b[92m+ Wayland_protocols_jll v1.18.0+4\u001b[39m\n",
      " \u001b[90m [02c8fc9c] \u001b[39m\u001b[92m+ XML2_jll v2.9.10+3\u001b[39m\n",
      " \u001b[90m [aed1982a] \u001b[39m\u001b[92m+ XSLT_jll v1.1.33+4\u001b[39m\n",
      " \u001b[90m [4f6342f7] \u001b[39m\u001b[92m+ Xorg_libX11_jll v1.6.9+4\u001b[39m\n",
      " \u001b[90m [0c0b7dd1] \u001b[39m\u001b[92m+ Xorg_libXau_jll v1.0.9+4\u001b[39m\n",
      " \u001b[90m [935fb764] \u001b[39m\u001b[92m+ Xorg_libXcursor_jll v1.2.0+4\u001b[39m\n",
      " \u001b[90m [a3789734] \u001b[39m\u001b[92m+ Xorg_libXdmcp_jll v1.1.3+4\u001b[39m\n",
      " \u001b[90m [1082639a] \u001b[39m\u001b[92m+ Xorg_libXext_jll v1.3.4+4\u001b[39m\n",
      " \u001b[90m [d091e8ba] \u001b[39m\u001b[92m+ Xorg_libXfixes_jll v5.0.3+4\u001b[39m\n",
      " \u001b[90m [a51aa0fd] \u001b[39m\u001b[92m+ Xorg_libXi_jll v1.7.10+4\u001b[39m\n",
      " \u001b[90m [d1454406] \u001b[39m\u001b[92m+ Xorg_libXinerama_jll v1.1.4+4\u001b[39m\n",
      " \u001b[90m [ec84b674] \u001b[39m\u001b[92m+ Xorg_libXrandr_jll v1.5.2+4\u001b[39m\n",
      " \u001b[90m [ea2f1a96] \u001b[39m\u001b[92m+ Xorg_libXrender_jll v0.9.10+4\u001b[39m\n",
      " \u001b[90m [14d82f49] \u001b[39m\u001b[92m+ Xorg_libpthread_stubs_jll v0.1.0+3\u001b[39m\n",
      " \u001b[90m [c7cfdc94] \u001b[39m\u001b[92m+ Xorg_libxcb_jll v1.13.0+3\u001b[39m\n",
      " \u001b[90m [cc61e674] \u001b[39m\u001b[92m+ Xorg_libxkbfile_jll v1.1.0+4\u001b[39m\n",
      " \u001b[90m [12413925] \u001b[39m\u001b[92m+ Xorg_xcb_util_image_jll v0.4.0+1\u001b[39m\n",
      " \u001b[90m [2def613f] \u001b[39m\u001b[92m+ Xorg_xcb_util_jll v0.4.0+1\u001b[39m\n",
      " \u001b[90m [975044d2] \u001b[39m\u001b[92m+ Xorg_xcb_util_keysyms_jll v0.4.0+1\u001b[39m\n",
      " \u001b[90m [0d47668e] \u001b[39m\u001b[92m+ Xorg_xcb_util_renderutil_jll v0.3.9+1\u001b[39m\n",
      " \u001b[90m [c22f9ab0] \u001b[39m\u001b[92m+ Xorg_xcb_util_wm_jll v0.4.1+1\u001b[39m\n",
      " \u001b[90m [35661453] \u001b[39m\u001b[92m+ Xorg_xkbcomp_jll v1.4.2+4\u001b[39m\n",
      " \u001b[90m [33bec58e] \u001b[39m\u001b[92m+ Xorg_xkeyboard_config_jll v2.27.0+4\u001b[39m\n",
      " \u001b[90m [c5fb5394] \u001b[39m\u001b[92m+ Xorg_xtrans_jll v1.4.0+3\u001b[39m\n",
      " \u001b[90m [3161d3a3] \u001b[39m\u001b[92m+ Zstd_jll v1.4.5+2\u001b[39m\n",
      " \u001b[90m [b53b4c65] \u001b[39m\u001b[92m+ libpng_jll v1.6.37+6\u001b[39m\n",
      " \u001b[90m [d8fb68d0] \u001b[39m\u001b[92m+ xkbcommon_jll v0.9.1+5\u001b[39m\n",
      "\u001b[32m\u001b[1m   Building\u001b[22m\u001b[39m PyCall → `C:\\Users\\Wael\\.julia\\packages\\PyCall\\BcTLp\\deps\\build.log`\n"
     ]
    }
   ],
   "source": [
    "using Pkg\n",
    "Pkg.update()\n",
    "Pkg.add([\n",
    "        \"BenchmarkTools\",\n",
    "        \"GLPK\",\n",
    "        \"GraphPlot\",\n",
    "        \"JuMP\",\n",
    "        \"LightGraphs\",\n",
    "        \"PyPlot\",\n",
    "])"
   ]
  },
  {
   "cell_type": "markdown",
   "metadata": {},
   "source": [
    "## 1. The basics"
   ]
  },
  {
   "cell_type": "markdown",
   "metadata": {},
   "source": [
    "### Variables and elementary operations"
   ]
  },
  {
   "cell_type": "markdown",
   "metadata": {},
   "source": [
    "Variable assignment works as one would expect. Note that you can use LaTeX symbols by typing (for instance) \"\\beta\" + `Tab` in the REPL or a Jupyter cell. This also works for indices when typing \"u\\\\_1\" + `Tab`."
   ]
  },
  {
   "cell_type": "code",
   "execution_count": 3,
   "metadata": {
    "ExecuteTime": {
     "end_time": "2020-11-09T10:50:31.964000+01:00",
     "start_time": "2020-11-09T09:50:31.959Z"
    }
   },
   "outputs": [
    {
     "data": {
      "text/plain": [
       "10"
      ]
     },
     "execution_count": 3,
     "metadata": {},
     "output_type": "execute_result"
    }
   ],
   "source": [
    "x = 1\n",
    "ε = 0.1\n",
    "u₁ = 10"
   ]
  },
  {
   "cell_type": "markdown",
   "metadata": {},
   "source": [
    "Elementary operations are well summed up in https://juliadocs.github.io/Julia-Cheat-Sheet/. When comparing to Python, the main changes are boolean operators.."
   ]
  },
  {
   "cell_type": "markdown",
   "metadata": {},
   "source": [
    "### Types"
   ]
  },
  {
   "cell_type": "markdown",
   "metadata": {},
   "source": [
    "Like in Python, each variable in Julia has a type."
   ]
  },
  {
   "cell_type": "code",
   "execution_count": 4,
   "metadata": {
    "ExecuteTime": {
     "end_time": "2020-11-09T10:50:34.485000+01:00",
     "start_time": "2020-11-09T09:50:34.133Z"
    }
   },
   "outputs": [
    {
     "data": {
      "text/plain": [
       "(Int64, Float64, Char, String)"
      ]
     },
     "execution_count": 4,
     "metadata": {},
     "output_type": "execute_result"
    }
   ],
   "source": [
    "a = 1\n",
    "b = 1.\n",
    "c = '1'\n",
    "d = \"1\"\n",
    "typeof(a), typeof(b), typeof(c), typeof(d)"
   ]
  },
  {
   "cell_type": "markdown",
   "metadata": {},
   "source": [
    "Julia's typing system is dynamic, i.e. variables can change types, but performance can be increased by avoiding such changes and specifying the types when they are known in advance."
   ]
  },
  {
   "cell_type": "markdown",
   "metadata": {},
   "source": [
    "### Functions"
   ]
  },
  {
   "cell_type": "markdown",
   "metadata": {},
   "source": [
    "The first function you need to master is for printing:"
   ]
  },
  {
   "cell_type": "code",
   "execution_count": 5,
   "metadata": {
    "ExecuteTime": {
     "end_time": "2020-11-09T10:50:35.888000+01:00",
     "start_time": "2020-11-09T09:50:35.872Z"
    }
   },
   "outputs": [
    {
     "name": "stdout",
     "output_type": "stream",
     "text": [
      "Hello world!\n"
     ]
    }
   ],
   "source": [
    "println(\"Hello world!\")"
   ]
  },
  {
   "cell_type": "markdown",
   "metadata": {},
   "source": [
    "More generally, a function is defined with the following syntax:"
   ]
  },
  {
   "cell_type": "code",
   "execution_count": 6,
   "metadata": {
    "ExecuteTime": {
     "end_time": "2020-11-09T10:50:36.737000+01:00",
     "start_time": "2020-11-09T09:50:36.499Z"
    }
   },
   "outputs": [
    {
     "data": {
      "text/plain": [
       "addition (generic function with 1 method)"
      ]
     },
     "execution_count": 6,
     "metadata": {},
     "output_type": "execute_result"
    }
   ],
   "source": [
    "function addition(a, b)\n",
    "    println(\"I am adding stuff\")\n",
    "    return a + b\n",
    "end"
   ]
  },
  {
   "cell_type": "markdown",
   "metadata": {},
   "source": [
    "If we want, we can specify the types of the inputs and output:"
   ]
  },
  {
   "cell_type": "code",
   "execution_count": 7,
   "metadata": {
    "ExecuteTime": {
     "end_time": "2020-11-09T10:50:38.474000+01:00",
     "start_time": "2020-11-09T09:50:38.468Z"
    }
   },
   "outputs": [
    {
     "data": {
      "text/plain": [
       "addition (generic function with 2 methods)"
      ]
     },
     "execution_count": 7,
     "metadata": {},
     "output_type": "execute_result"
    }
   ],
   "source": [
    "function addition(a::Int, b::Int)::Int\n",
    "    println(\"I am adding integers\")\n",
    "    return a + b\n",
    "end"
   ]
  },
  {
   "cell_type": "markdown",
   "metadata": {},
   "source": [
    "Note that there is still only one function `addition`, but it now has two \"methods\": one for integers, and one more generic."
   ]
  },
  {
   "cell_type": "code",
   "execution_count": 8,
   "metadata": {
    "ExecuteTime": {
     "end_time": "2020-11-09T10:50:40.924000+01:00",
     "start_time": "2020-11-09T09:50:40.389Z"
    }
   },
   "outputs": [
    {
     "data": {
      "text/html": [
       "# 2 methods for generic function <b>addition</b>:<ul><li> addition(a::<b>Int64</b>, b::<b>Int64</b>) in Main at In[7]:1</li> <li> addition(a, b) in Main at In[6]:1</li> </ul>"
      ],
      "text/plain": [
       "# 2 methods for generic function \"addition\":\n",
       "[1] addition(a::Int64, b::Int64) in Main at In[7]:1\n",
       "[2] addition(a, b) in Main at In[6]:1"
      ]
     },
     "execution_count": 8,
     "metadata": {},
     "output_type": "execute_result"
    }
   ],
   "source": [
    "methods(addition)"
   ]
  },
  {
   "cell_type": "markdown",
   "metadata": {},
   "source": [
    "This is linked to a key feature of Julia called *multiple dispatch*: the program will decide at runtime which function to apply depending on the type of the arguments."
   ]
  },
  {
   "cell_type": "code",
   "execution_count": 9,
   "metadata": {
    "ExecuteTime": {
     "end_time": "2020-11-09T10:50:42.107000+01:00",
     "start_time": "2020-11-09T09:50:42.102Z"
    }
   },
   "outputs": [
    {
     "name": "stdout",
     "output_type": "stream",
     "text": [
      "I am adding integers\n"
     ]
    },
    {
     "data": {
      "text/plain": [
       "3"
      ]
     },
     "execution_count": 9,
     "metadata": {},
     "output_type": "execute_result"
    }
   ],
   "source": [
    "addition(1, 2)"
   ]
  },
  {
   "cell_type": "code",
   "execution_count": 10,
   "metadata": {
    "ExecuteTime": {
     "end_time": "2020-11-09T10:50:42.489000+01:00",
     "start_time": "2020-11-09T09:50:42.222Z"
    }
   },
   "outputs": [
    {
     "name": "stdout",
     "output_type": "stream",
     "text": [
      "I am adding stuff\n"
     ]
    },
    {
     "data": {
      "text/plain": [
       "1.5"
      ]
     },
     "execution_count": 10,
     "metadata": {},
     "output_type": "execute_result"
    }
   ],
   "source": [
    "addition(1, 0.5)"
   ]
  },
  {
   "cell_type": "markdown",
   "metadata": {},
   "source": [
    "As in Python, you can add optional and keyword arguments."
   ]
  },
  {
   "cell_type": "markdown",
   "metadata": {},
   "source": [
    "### Arrays"
   ]
  },
  {
   "cell_type": "markdown",
   "metadata": {},
   "source": [
    "Arrays can be created and extended just like in Python, using square brackets:"
   ]
  },
  {
   "cell_type": "code",
   "execution_count": 11,
   "metadata": {
    "ExecuteTime": {
     "end_time": "2020-11-09T10:50:44.588000+01:00",
     "start_time": "2020-11-09T09:50:44.453Z"
    }
   },
   "outputs": [
    {
     "name": "stdout",
     "output_type": "stream",
     "text": [
      "[3, 2, 1]\n"
     ]
    }
   ],
   "source": [
    "a = [3, 2]\n",
    "push!(a, 1)\n",
    "println(a)"
   ]
  },
  {
   "cell_type": "markdown",
   "metadata": {},
   "source": [
    "However, if we know the type and size of the array in advance, it is better to allocate the memory first (with the `undef` object):"
   ]
  },
  {
   "cell_type": "code",
   "execution_count": 12,
   "metadata": {
    "ExecuteTime": {
     "end_time": "2020-11-09T10:50:47.184000+01:00",
     "start_time": "2020-11-09T09:50:46.437Z"
    }
   },
   "outputs": [
    {
     "data": {
      "text/plain": [
       "3-element Array{Int64,1}:\n",
       " 334500208\n",
       " 334500240\n",
       " 332800432"
      ]
     },
     "execution_count": 12,
     "metadata": {},
     "output_type": "execute_result"
    }
   ],
   "source": [
    "a = Array{Int, 1}(undef, 3)"
   ]
  },
  {
   "cell_type": "markdown",
   "metadata": {},
   "source": [
    "These random numbers are here because if we don't write any value in it, the array still contains whatever was in memory there before. We must therefore fill it:"
   ]
  },
  {
   "cell_type": "code",
   "execution_count": 13,
   "metadata": {
    "ExecuteTime": {
     "end_time": "2020-11-09T10:50:51.976000+01:00",
     "start_time": "2020-11-09T09:50:51.969Z"
    }
   },
   "outputs": [
    {
     "name": "stdout",
     "output_type": "stream",
     "text": [
      "[3, 2, 1]\n"
     ]
    }
   ],
   "source": [
    "a[1], a[2], a[3] = 3, 2, 1\n",
    "println(a)"
   ]
  },
  {
   "cell_type": "markdown",
   "metadata": {},
   "source": [
    "The syntax `Array{T, d}` denotes an array with element type `T` and `d` dimensions (or axes). For $d=1$ and $d=2$ we have shortcuts:"
   ]
  },
  {
   "cell_type": "code",
   "execution_count": 38,
   "metadata": {
    "ExecuteTime": {
     "end_time": "2020-11-09T10:50:54.005000+01:00",
     "start_time": "2020-11-09T09:50:54.002Z"
    }
   },
   "outputs": [
    {
     "data": {
      "text/plain": [
       "3×2 Array{Float64,2}:\n",
       " 1.64886e-315  1.64886e-315\n",
       " 1.64886e-315  1.64886e-315\n",
       " 1.64886e-315  9.0e-323"
      ]
     },
     "execution_count": 38,
     "metadata": {},
     "output_type": "execute_result"
    }
   ],
   "source": [
    "v = Vector{Float64}(undef, 2)\n",
    "M = Matrix{Float64}(undef, 3, 2)"
   ]
  },
  {
   "cell_type": "markdown",
   "metadata": {},
   "source": [
    "Vectorizing a function `f` in Julia is done by adding a dot after its name."
   ]
  },
  {
   "cell_type": "code",
   "execution_count": 15,
   "metadata": {
    "ExecuteTime": {
     "end_time": "2020-11-09T10:51:06.029000+01:00",
     "start_time": "2020-11-09T09:51:05.943Z"
    }
   },
   "outputs": [
    {
     "data": {
      "text/plain": [
       "square (generic function with 1 method)"
      ]
     },
     "execution_count": 15,
     "metadata": {},
     "output_type": "execute_result"
    }
   ],
   "source": [
    "function square(n::Int)::Int\n",
    "    return n^2\n",
    "end"
   ]
  },
  {
   "cell_type": "code",
   "execution_count": 16,
   "metadata": {
    "ExecuteTime": {
     "end_time": "2020-11-09T10:51:07.384000+01:00",
     "start_time": "2020-11-09T09:51:07.345Z"
    }
   },
   "outputs": [
    {
     "data": {
      "text/plain": [
       "3-element Array{Int64,1}:\n",
       " 9\n",
       " 4\n",
       " 1"
      ]
     },
     "execution_count": 16,
     "metadata": {},
     "output_type": "execute_result"
    }
   ],
   "source": [
    "square.(a)"
   ]
  },
  {
   "cell_type": "markdown",
   "metadata": {},
   "source": [
    "The same goes for elementary operators, except the dot comes before:"
   ]
  },
  {
   "cell_type": "code",
   "execution_count": 17,
   "metadata": {
    "ExecuteTime": {
     "end_time": "2020-11-09T10:51:09.166000+01:00",
     "start_time": "2020-11-09T09:51:09.122Z"
    }
   },
   "outputs": [
    {
     "data": {
      "text/plain": [
       "3-element Array{Int64,1}:\n",
       " 6\n",
       " 4\n",
       " 2"
      ]
     },
     "execution_count": 17,
     "metadata": {},
     "output_type": "execute_result"
    }
   ],
   "source": [
    "a.*2"
   ]
  },
  {
   "cell_type": "code",
   "execution_count": 18,
   "metadata": {
    "ExecuteTime": {
     "end_time": "2020-11-09T10:51:10.363000+01:00",
     "start_time": "2020-11-09T09:51:09.469Z"
    }
   },
   "outputs": [
    {
     "data": {
      "text/plain": [
       "3-element BitArray{1}:\n",
       " 0\n",
       " 1\n",
       " 0"
      ]
     },
     "execution_count": 18,
     "metadata": {},
     "output_type": "execute_result"
    }
   ],
   "source": [
    "a.*2 .== a.^2"
   ]
  },
  {
   "cell_type": "markdown",
   "metadata": {},
   "source": [
    "Beyond arrays, Julia also offers built-in support for common data structures such as sets and dictionaries."
   ]
  },
  {
   "cell_type": "markdown",
   "metadata": {},
   "source": [
    "### Conditions and loops"
   ]
  },
  {
   "cell_type": "markdown",
   "metadata": {},
   "source": [
    "Here is an example of `if`-`then`-`else` block:"
   ]
  },
  {
   "cell_type": "code",
   "execution_count": 19,
   "metadata": {
    "ExecuteTime": {
     "end_time": "2020-11-09T10:51:12.892000+01:00",
     "start_time": "2020-11-09T09:51:12.820Z"
    }
   },
   "outputs": [
    {
     "data": {
      "text/plain": [
       "test_sign (generic function with 1 method)"
      ]
     },
     "execution_count": 19,
     "metadata": {},
     "output_type": "execute_result"
    }
   ],
   "source": [
    "function test_sign(n::Int)::String\n",
    "    if n > 0\n",
    "        return \"strictly positive\"\n",
    "    elseif n < 0\n",
    "        return \"strictly negative\"\n",
    "    else\n",
    "        return \"zero\"\n",
    "    end\n",
    "end"
   ]
  },
  {
   "cell_type": "markdown",
   "metadata": {},
   "source": [
    "Here is an example of `for` loop:"
   ]
  },
  {
   "cell_type": "code",
   "execution_count": 20,
   "metadata": {
    "ExecuteTime": {
     "end_time": "2020-11-09T10:51:14.544000+01:00",
     "start_time": "2020-11-09T09:51:14.468Z"
    }
   },
   "outputs": [
    {
     "data": {
      "text/plain": [
       "fibonacci (generic function with 1 method)"
      ]
     },
     "execution_count": 20,
     "metadata": {},
     "output_type": "execute_result"
    }
   ],
   "source": [
    "function fibonacci(n::Int)::Int\n",
    "    a, b = 0, 1\n",
    "    for k = 1:n\n",
    "        a, b = b, a + b\n",
    "    end\n",
    "    return a\n",
    "end"
   ]
  },
  {
   "cell_type": "markdown",
   "metadata": {},
   "source": [
    "Loops also allow us to define arrays by comprehension:"
   ]
  },
  {
   "cell_type": "code",
   "execution_count": 21,
   "metadata": {
    "ExecuteTime": {
     "end_time": "2020-11-09T10:51:15.953000+01:00",
     "start_time": "2020-11-09T09:51:15.921Z"
    }
   },
   "outputs": [
    {
     "data": {
      "text/plain": [
       "11-element Array{Int64,1}:\n",
       "    1\n",
       "    2\n",
       "    4\n",
       "    8\n",
       "   16\n",
       "   32\n",
       "   64\n",
       "  128\n",
       "  256\n",
       "  512\n",
       " 1024"
      ]
     },
     "execution_count": 21,
     "metadata": {},
     "output_type": "execute_result"
    }
   ],
   "source": [
    "powers = [2^k for k = 0:10]"
   ]
  },
  {
   "cell_type": "markdown",
   "metadata": {},
   "source": [
    "Finally, here is an example of `while` loop:"
   ]
  },
  {
   "cell_type": "code",
   "execution_count": 23,
   "metadata": {
    "ExecuteTime": {
     "end_time": "2020-11-09T10:51:16.249000+01:00",
     "start_time": "2020-11-09T09:51:16.177Z"
    }
   },
   "outputs": [
    {
     "data": {
      "text/plain": [
       "collatz_iterations (generic function with 1 method)"
      ]
     },
     "execution_count": 23,
     "metadata": {},
     "output_type": "execute_result"
    }
   ],
   "source": [
    "collatz(n::Int)::Int = (n%2 == 0) ? n÷2 : 3n+1\n",
    "\n",
    "function collatz_iterations(n::Int)::Int\n",
    "    it = 0\n",
    "    while n > 1\n",
    "        n = collatz(n)\n",
    "        it += 1\n",
    "    end\n",
    "    return it\n",
    "end"
   ]
  },
  {
   "cell_type": "markdown",
   "metadata": {},
   "source": [
    "### Structures"
   ]
  },
  {
   "cell_type": "markdown",
   "metadata": {},
   "source": [
    "Julia's notion of object is nothing more than a tuple with named components. We can define one like this:"
   ]
  },
  {
   "cell_type": "code",
   "execution_count": 24,
   "metadata": {
    "ExecuteTime": {
     "end_time": "2020-11-09T10:51:18.106000+01:00",
     "start_time": "2020-11-09T09:51:18.099Z"
    }
   },
   "outputs": [],
   "source": [
    "struct Point3D\n",
    "    name::String\n",
    "    x::Float64\n",
    "    y::Float64\n",
    "    z::Float64\n",
    "end"
   ]
  },
  {
   "cell_type": "markdown",
   "metadata": {},
   "source": [
    "To create an object, just apply its name as a function:"
   ]
  },
  {
   "cell_type": "code",
   "execution_count": 25,
   "metadata": {
    "ExecuteTime": {
     "end_time": "2020-11-09T10:51:18.605000+01:00",
     "start_time": "2020-11-09T09:51:18.390Z"
    }
   },
   "outputs": [
    {
     "data": {
      "text/plain": [
       "Point3D(\"HOME\", 1.0, 7.0, -13.0)"
      ]
     },
     "execution_count": 25,
     "metadata": {},
     "output_type": "execute_result"
    }
   ],
   "source": [
    "p = Point3D(\"HOME\", 1., 7., -13.)"
   ]
  },
  {
   "cell_type": "markdown",
   "metadata": {},
   "source": [
    "The structures themselves contain no methods. However, we can define some by writing functions that take an input with the type we defined:"
   ]
  },
  {
   "cell_type": "code",
   "execution_count": 26,
   "metadata": {
    "ExecuteTime": {
     "end_time": "2020-11-09T10:51:18.980000+01:00",
     "start_time": "2020-11-09T09:51:18.912Z"
    }
   },
   "outputs": [
    {
     "data": {
      "text/plain": [
       "display (generic function with 1 method)"
      ]
     },
     "execution_count": 26,
     "metadata": {},
     "output_type": "execute_result"
    }
   ],
   "source": [
    "function display(p::Point3D)\n",
    "    name, x, y, z = p.name, p.x, p.y, p.z\n",
    "    println(\"I am the point $name with coordinates ($x, $y, $z)\")\n",
    "end"
   ]
  },
  {
   "cell_type": "code",
   "execution_count": 27,
   "metadata": {
    "ExecuteTime": {
     "end_time": "2020-11-09T10:51:20.160000+01:00",
     "start_time": "2020-11-09T09:51:20.149Z"
    }
   },
   "outputs": [
    {
     "name": "stdout",
     "output_type": "stream",
     "text": [
      "I am the point HOME with coordinates (1.0, 7.0, -13.0)\n"
     ]
    }
   ],
   "source": [
    "display(p)"
   ]
  },
  {
   "cell_type": "markdown",
   "metadata": {},
   "source": [
    "### Plots"
   ]
  },
  {
   "cell_type": "markdown",
   "metadata": {},
   "source": [
    "Plots can be generated with a Julia version of `matplotlib.pyplot`:"
   ]
  },
  {
   "cell_type": "code",
   "execution_count": 28,
   "metadata": {
    "ExecuteTime": {
     "end_time": "2020-11-09T10:51:27.232000+01:00",
     "start_time": "2020-11-09T09:51:22.996Z"
    }
   },
   "outputs": [
    {
     "name": "stderr",
     "output_type": "stream",
     "text": [
      "┌ Info: Precompiling PyPlot [d330b81b-6aea-500a-939a-2ce795aea3ee]\n",
      "└ @ Base loading.jl:1278\n",
      "┌ Info: Installing matplotlib via the Conda matplotlib package...\n",
      "└ @ PyCall C:\\Users\\Wael\\.julia\\packages\\PyCall\\BcTLp\\src\\PyCall.jl:708\n",
      "┌ Info: Running `conda install -y matplotlib` in root environment\n",
      "└ @ Conda C:\\Users\\Wael\\.julia\\packages\\Conda\\x5ml4\\src\\Conda.jl:115\n"
     ]
    },
    {
     "name": "stdout",
     "output_type": "stream",
     "text": [
      "Collecting package metadata (current_repodata.json): ...working... done\n",
      "Solving environment: ...working... done\n",
      "\n",
      "## Package Plan ##\n",
      "\n",
      "  environment location: C:\\Users\\Wael\\.julia\\conda\\3\n",
      "\n",
      "  added / updated specs:\n",
      "    - matplotlib\n",
      "\n",
      "\n",
      "The following packages will be downloaded:\n",
      "\n",
      "    package                    |            build\n",
      "    ---------------------------|-----------------\n",
      "    cycler-0.10.0              |           py38_0          14 KB\n",
      "    freetype-2.10.4            |       hd328e21_0         466 KB\n",
      "    kiwisolver-1.3.0           |   py38hd77b12b_0          78 KB\n",
      "    libtiff-4.1.0              |       h56a325e_1         739 KB\n",
      "    lz4-c-1.9.2                |       hf4a77e7_3         106 KB\n",
      "    matplotlib-3.3.2           |       haa95532_0          25 KB\n",
      "    matplotlib-base-3.3.2      |   py38hba9282a_0         5.1 MB\n",
      "    olefile-0.46               |             py_0          33 KB\n",
      "    pillow-8.0.1               |   py38h4fa10fc_0         690 KB\n",
      "    tk-8.6.10                  |       he774522_0         2.7 MB\n",
      "    xz-5.2.5                   |       h62dcd97_0         244 KB\n",
      "    zstd-1.4.5                 |       h04227a9_0         456 KB\n",
      "    ------------------------------------------------------------\n",
      "                                           Total:        10.5 MB\n",
      "\n",
      "The following NEW packages will be INSTALLED:\n",
      "\n",
      "  cycler             pkgs/main/win-64::cycler-0.10.0-py38_0\n",
      "  freetype           pkgs/main/win-64::freetype-2.10.4-hd328e21_0\n",
      "  kiwisolver         pkgs/main/win-64::kiwisolver-1.3.0-py38hd77b12b_0\n",
      "  libtiff            pkgs/main/win-64::libtiff-4.1.0-h56a325e_1\n",
      "  lz4-c              pkgs/main/win-64::lz4-c-1.9.2-hf4a77e7_3\n",
      "  matplotlib         pkgs/main/win-64::matplotlib-3.3.2-haa95532_0\n",
      "  matplotlib-base    pkgs/main/win-64::matplotlib-base-3.3.2-py38hba9282a_0\n",
      "  olefile            pkgs/main/noarch::olefile-0.46-py_0\n",
      "  pillow             pkgs/main/win-64::pillow-8.0.1-py38h4fa10fc_0\n",
      "  tk                 pkgs/main/win-64::tk-8.6.10-he774522_0\n",
      "  xz                 pkgs/main/win-64::xz-5.2.5-h62dcd97_0\n",
      "  zstd               pkgs/main/win-64::zstd-1.4.5-h04227a9_0\n",
      "\n",
      "\n",
      "\n",
      "Downloading and Extracting Packages\n",
      "libtiff-4.1.0        | 739 KB    | ########## | 100% \n",
      "kiwisolver-1.3.0     | 78 KB     | ########## | 100% \n",
      "lz4-c-1.9.2          | 106 KB    | ########## | 100% \n",
      "olefile-0.46         | 33 KB     | ########## | 100% \n",
      "tk-8.6.10            | 2.7 MB    | ########## | 100% \n",
      "matplotlib-base-3.3. | 5.1 MB    | ########## | 100% \n",
      "cycler-0.10.0        | 14 KB     | ########## | 100% \n",
      "matplotlib-3.3.2     | 25 KB     | ########## | 100% \n",
      "xz-5.2.5             | 244 KB    | ########## | 100% \n",
      "pillow-8.0.1         | 690 KB    | ########## | 100% \n",
      "zstd-1.4.5           | 456 KB    | ########## | 100% \n",
      "freetype-2.10.4      | 466 KB    | ########## | 100% \n",
      "Preparing transaction: ...working... done\n",
      "Verifying transaction: ...working... done\n",
      "Executing transaction: ...working... done\n"
     ]
    },
    {
     "data": {
      "text/plain": [
       "false"
      ]
     },
     "execution_count": 28,
     "metadata": {},
     "output_type": "execute_result"
    }
   ],
   "source": [
    "using PyPlot\n",
    "pygui(false)"
   ]
  },
  {
   "cell_type": "code",
   "execution_count": 29,
   "metadata": {
    "ExecuteTime": {
     "end_time": "2020-11-09T10:51:30.068000+01:00",
     "start_time": "2020-11-09T09:51:23.373Z"
    }
   },
   "outputs": [
    {
     "data": {
      "image/png": "[encoded data removed]",
      "text/plain": [
       "Figure(PyObject <Figure size 640x480 with 1 Axes>)"
      ]
     },
     "metadata": {},
     "output_type": "display_data"
    },
    {
     "name": "stderr",
     "output_type": "stream",
     "text": [
      "sys:1: UserWarning: Matplotlib is currently using agg, which is a non-GUI backend, so cannot show the figure.\r\n"
     ]
    }
   ],
   "source": [
    "x = collect(1:0.2:10)\n",
    "y = sin.(x)\n",
    "plot(x, y, color=\"blue\", label=\"curve\")\n",
    "scatter(x, y, color=\"red\", label=\"points\")\n",
    "xlabel(\"x axis\")\n",
    "ylabel(\"y axis\")\n",
    "legend()\n",
    "title(\"The sine function\")\n",
    "show()"
   ]
  },
  {
   "cell_type": "markdown",
   "metadata": {},
   "source": [
    "### Optimization"
   ]
  },
  {
   "cell_type": "markdown",
   "metadata": {},
   "source": [
    "The standard library for mathematical programming in Julia is called `JuMP`, a quick tutorial is available at https://jump.dev/JuMP.jl/stable/quickstart/."
   ]
  },
  {
   "cell_type": "markdown",
   "metadata": {},
   "source": [
    "### Miscellaneous"
   ]
  },
  {
   "cell_type": "markdown",
   "metadata": {},
   "source": [
    "To  display the documentation (docstring) of a function, simply type `?` followed by its name in the REPL:"
   ]
  },
  {
   "cell_type": "code",
   "execution_count": 36,
   "metadata": {
    "ExecuteTime": {
     "end_time": "2020-11-09T10:51:35.374000+01:00",
     "start_time": "2020-11-09T09:51:34.033Z"
    }
   },
   "outputs": [
    {
     "name": "stdout",
     "output_type": "stream",
     "text": [
      "search: \u001b[0m\u001b[1ml\u001b[22m\u001b[0m\u001b[1me\u001b[22m\u001b[0m\u001b[1mn\u001b[22m\u001b[0m\u001b[1mg\u001b[22m\u001b[0m\u001b[1mt\u001b[22m\u001b[0m\u001b[1mh\u001b[22m\n",
      "\n"
     ]
    },
    {
     "data": {
      "text/latex": [
       "\\begin{verbatim}\n",
       "length(collection) -> Integer\n",
       "\\end{verbatim}\n",
       "Return the number of elements in the collection.\n",
       "\n",
       "Use \\href{@ref}{\\texttt{lastindex}} to get the last valid index of an indexable collection.\n",
       "\n",
       "\\section{Examples}\n",
       "\\begin{verbatim}\n",
       "julia> length(1:5)\n",
       "5\n",
       "\n",
       "julia> length([1, 2, 3, 4])\n",
       "4\n",
       "\n",
       "julia> length([1 2; 3 4])\n",
       "4\n",
       "\\end{verbatim}\n",
       "\\rule{\\textwidth}{1pt}\n",
       "\\begin{verbatim}\n",
       "length(A::AbstractArray)\n",
       "\\end{verbatim}\n",
       "Return the number of elements in the array, defaults to \\texttt{prod(size(A))}.\n",
       "\n",
       "\\section{Examples}\n",
       "\\begin{verbatim}\n",
       "julia> length([1, 2, 3, 4])\n",
       "4\n",
       "\n",
       "julia> length([1 2; 3 4])\n",
       "4\n",
       "\\end{verbatim}\n",
       "\\rule{\\textwidth}{1pt}\n",
       "\\begin{verbatim}\n",
       "length(s::AbstractString) -> Int\n",
       "length(s::AbstractString, i::Integer, j::Integer) -> Int\n",
       "\\end{verbatim}\n",
       "The number of characters in string \\texttt{s} from indices \\texttt{i} through \\texttt{j}. This is computed as the number of code unit indices from \\texttt{i} to \\texttt{j} which are valid character indices. With only a single string argument, this computes the number of characters in the entire string. With \\texttt{i} and \\texttt{j} arguments it computes the number of indices between \\texttt{i} and \\texttt{j} inclusive that are valid indices in the string \\texttt{s}. In addition to in-bounds values, \\texttt{i} may take the out-of-bounds value \\texttt{ncodeunits(s) + 1} and \\texttt{j} may take the out-of-bounds value \\texttt{0}.\n",
       "\n",
       "See also: \\href{@ref}{\\texttt{isvalid}}, \\href{@ref}{\\texttt{ncodeunits}}, \\href{@ref}{\\texttt{lastindex}}, \\href{@ref}{\\texttt{thisind}}, \\href{@ref}{\\texttt{nextind}}, \\href{@ref}{\\texttt{prevind}}\n",
       "\n",
       "\\section{Examples}\n",
       "\\begin{verbatim}\n",
       "julia> length(\"jμΛIα\")\n",
       "5\n",
       "\\end{verbatim}\n"
      ],
      "text/markdown": [
       "```\n",
       "length(collection) -> Integer\n",
       "```\n",
       "\n",
       "Return the number of elements in the collection.\n",
       "\n",
       "Use [`lastindex`](@ref) to get the last valid index of an indexable collection.\n",
       "\n",
       "# Examples\n",
       "\n",
       "```jldoctest\n",
       "julia> length(1:5)\n",
       "5\n",
       "\n",
       "julia> length([1, 2, 3, 4])\n",
       "4\n",
       "\n",
       "julia> length([1 2; 3 4])\n",
       "4\n",
       "```\n",
       "\n",
       "---\n",
       "\n",
       "```\n",
       "length(A::AbstractArray)\n",
       "```\n",
       "\n",
       "Return the number of elements in the array, defaults to `prod(size(A))`.\n",
       "\n",
       "# Examples\n",
       "\n",
       "```jldoctest\n",
       "julia> length([1, 2, 3, 4])\n",
       "4\n",
       "\n",
       "julia> length([1 2; 3 4])\n",
       "4\n",
       "```\n",
       "\n",
       "---\n",
       "\n",
       "```\n",
       "length(s::AbstractString) -> Int\n",
       "length(s::AbstractString, i::Integer, j::Integer) -> Int\n",
       "```\n",
       "\n",
       "The number of characters in string `s` from indices `i` through `j`. This is computed as the number of code unit indices from `i` to `j` which are valid character indices. With only a single string argument, this computes the number of characters in the entire string. With `i` and `j` arguments it computes the number of indices between `i` and `j` inclusive that are valid indices in the string `s`. In addition to in-bounds values, `i` may take the out-of-bounds value `ncodeunits(s) + 1` and `j` may take the out-of-bounds value `0`.\n",
       "\n",
       "See also: [`isvalid`](@ref), [`ncodeunits`](@ref), [`lastindex`](@ref), [`thisind`](@ref), [`nextind`](@ref), [`prevind`](@ref)\n",
       "\n",
       "# Examples\n",
       "\n",
       "```jldoctest\n",
       "julia> length(\"jμΛIα\")\n",
       "5\n",
       "```\n"
      ],
      "text/plain": [
       "\u001b[36m  length(collection) -> Integer\u001b[39m\n",
       "\n",
       "  Return the number of elements in the collection.\n",
       "\n",
       "  Use \u001b[36mlastindex\u001b[39m to get the last valid index of an indexable collection.\n",
       "\n",
       "\u001b[1m  Examples\u001b[22m\n",
       "\u001b[1m  ≡≡≡≡≡≡≡≡≡≡\u001b[22m\n",
       "\n",
       "\u001b[36m  julia> length(1:5)\u001b[39m\n",
       "\u001b[36m  5\u001b[39m\n",
       "\u001b[36m  \u001b[39m\n",
       "\u001b[36m  julia> length([1, 2, 3, 4])\u001b[39m\n",
       "\u001b[36m  4\u001b[39m\n",
       "\u001b[36m  \u001b[39m\n",
       "\u001b[36m  julia> length([1 2; 3 4])\u001b[39m\n",
       "\u001b[36m  4\u001b[39m\n",
       "\n",
       "  ────────────────────────────────────────────────────────────────────────────\n",
       "\n",
       "\u001b[36m  length(A::AbstractArray)\u001b[39m\n",
       "\n",
       "  Return the number of elements in the array, defaults to \u001b[36mprod(size(A))\u001b[39m.\n",
       "\n",
       "\u001b[1m  Examples\u001b[22m\n",
       "\u001b[1m  ≡≡≡≡≡≡≡≡≡≡\u001b[22m\n",
       "\n",
       "\u001b[36m  julia> length([1, 2, 3, 4])\u001b[39m\n",
       "\u001b[36m  4\u001b[39m\n",
       "\u001b[36m  \u001b[39m\n",
       "\u001b[36m  julia> length([1 2; 3 4])\u001b[39m\n",
       "\u001b[36m  4\u001b[39m\n",
       "\n",
       "  ────────────────────────────────────────────────────────────────────────────\n",
       "\n",
       "\u001b[36m  length(s::AbstractString) -> Int\u001b[39m\n",
       "\u001b[36m  length(s::AbstractString, i::Integer, j::Integer) -> Int\u001b[39m\n",
       "\n",
       "  The number of characters in string \u001b[36ms\u001b[39m from indices \u001b[36mi\u001b[39m through \u001b[36mj\u001b[39m. This is\n",
       "  computed as the number of code unit indices from \u001b[36mi\u001b[39m to \u001b[36mj\u001b[39m which are valid\n",
       "  character indices. With only a single string argument, this computes the\n",
       "  number of characters in the entire string. With \u001b[36mi\u001b[39m and \u001b[36mj\u001b[39m arguments it\n",
       "  computes the number of indices between \u001b[36mi\u001b[39m and \u001b[36mj\u001b[39m inclusive that are valid\n",
       "  indices in the string \u001b[36ms\u001b[39m. In addition to in-bounds values, \u001b[36mi\u001b[39m may take the\n",
       "  out-of-bounds value \u001b[36mncodeunits(s) + 1\u001b[39m and \u001b[36mj\u001b[39m may take the out-of-bounds value\n",
       "  \u001b[36m0\u001b[39m.\n",
       "\n",
       "  See also: \u001b[36misvalid\u001b[39m, \u001b[36mncodeunits\u001b[39m, \u001b[36mlastindex\u001b[39m, \u001b[36mthisind\u001b[39m, \u001b[36mnextind\u001b[39m, \u001b[36mprevind\u001b[39m\n",
       "\n",
       "\u001b[1m  Examples\u001b[22m\n",
       "\u001b[1m  ≡≡≡≡≡≡≡≡≡≡\u001b[22m\n",
       "\n",
       "\u001b[36m  julia> length(\"jμΛIα\")\u001b[39m\n",
       "\u001b[36m  5\u001b[39m"
      ]
     },
     "execution_count": 36,
     "metadata": {},
     "output_type": "execute_result"
    }
   ],
   "source": [
    "?length\n"
   ]
  },
  {
   "cell_type": "markdown",
   "metadata": {},
   "source": [
    "Comments start with `#`"
   ]
  },
  {
   "cell_type": "code",
   "execution_count": null,
   "metadata": {
    "ExecuteTime": {
     "end_time": "2020-11-09T10:51:37.329000+01:00",
     "start_time": "2020-11-09T09:51:37.326Z"
    }
   },
   "outputs": [],
   "source": [
    "# this is a comment"
   ]
  },
  {
   "cell_type": "markdown",
   "metadata": {},
   "source": [
    "Error messages can be generated using the following function. You can also throw and catch more sophisticated exceptions."
   ]
  },
  {
   "cell_type": "code",
   "execution_count": 31,
   "metadata": {
    "ExecuteTime": {
     "end_time": "2020-11-09T10:51:38.850000+01:00",
     "start_time": "2020-11-09T09:51:38.294Z"
    }
   },
   "outputs": [
    {
     "ename": "LoadError",
     "evalue": "You made a serious mistake",
     "output_type": "error",
     "traceback": [
      "You made a serious mistake",
      "",
      "Stacktrace:",
      " [1] error(::String) at .\\error.jl:33",
      " [2] top-level scope at In[31]:1",
      " [3] include_string(::Function, ::Module, ::String, ::String) at .\\loading.jl:1091"
     ]
    }
   ],
   "source": [
    "error(\"You made a serious mistake\")"
   ]
  },
  {
   "cell_type": "markdown",
   "metadata": {},
   "source": [
    "Functions that modify one or more of their arguments typically end with `!`:"
   ]
  },
  {
   "cell_type": "code",
   "execution_count": 32,
   "metadata": {
    "ExecuteTime": {
     "end_time": "2020-11-09T10:51:40.646000+01:00",
     "start_time": "2020-11-09T09:51:40.510Z"
    }
   },
   "outputs": [
    {
     "data": {
      "text/plain": [
       "add_one! (generic function with 1 method)"
      ]
     },
     "execution_count": 32,
     "metadata": {},
     "output_type": "execute_result"
    }
   ],
   "source": [
    "function add_one!(x::Vector{Int})\n",
    "    n = length(x)\n",
    "    for i = 1:n\n",
    "        x[i] += 1\n",
    "    end\n",
    "end"
   ]
  },
  {
   "cell_type": "markdown",
   "metadata": {},
   "source": [
    "The execution time of a function can be measured as follows:"
   ]
  },
  {
   "cell_type": "code",
   "execution_count": 33,
   "metadata": {
    "ExecuteTime": {
     "end_time": "2020-11-09T10:51:42.713000+01:00",
     "start_time": "2020-11-09T09:51:41.782Z"
    }
   },
   "outputs": [],
   "source": [
    "using BenchmarkTools"
   ]
  },
  {
   "cell_type": "code",
   "execution_count": 34,
   "metadata": {
    "ExecuteTime": {
     "end_time": "2020-11-09T10:51:46.311000+01:00",
     "start_time": "2020-11-09T09:51:42.188Z"
    },
    "scrolled": true
   },
   "outputs": [
    {
     "data": {
      "text/plain": [
       "3.149377593360996e-7"
      ]
     },
     "execution_count": 34,
     "metadata": {},
     "output_type": "execute_result"
    }
   ],
   "source": [
    "Δt = @belapsed (M = rand(5, 5); N = M^2)"
   ]
  },
  {
   "cell_type": "markdown",
   "metadata": {
    "ExecuteTime": {
     "end_time": "2020-11-05T13:39:08.863000+01:00",
     "start_time": "2020-11-05T12:39:08.323Z"
    }
   },
   "source": [
    "The Julia equivalent of Python's `None` is called `nothing`. The constant `NaN` also exists in Julia, it has type `Float64`."
   ]
  },
  {
   "cell_type": "markdown",
   "metadata": {},
   "source": [
    "## 2. Linear recurrent sequences"
   ]
  },
  {
   "cell_type": "markdown",
   "metadata": {},
   "source": [
    "In this problem, we go through different ways of computing the terms of the sequence \n",
    "\n",
    "\\begin{align*}\n",
    "    x_n & = w_1 x_{n-1} + ... + w_d x_{n-d}\n",
    "\\end{align*}\n",
    "\n",
    "whose initial values are\n",
    "\n",
    "\\begin{align*}\n",
    "    x_1 & = y_1 \\\\\n",
    "    &~\\vdots \\\\\n",
    "    x_d & = y_d\n",
    "\\end{align*}\n",
    "\n",
    "As you have surely noticed by now, Jupyter notebooks can also accomodate $\\LaTeX$ code."
   ]
  },
  {
   "cell_type": "markdown",
   "metadata": {},
   "source": [
    "### 2.1 Recursive computation"
   ]
  },
  {
   "cell_type": "markdown",
   "metadata": {},
   "source": [
    "Implement a function `x_rec(w::Vector{Float64}, y::Vector{Float64}, n::Int)::Float64` computing $x_n$ recursively.\n",
    "\n",
    "Do not use it for $n > 30$ or your computer will explode."
   ]
  },
  {
   "cell_type": "code",
   "execution_count": 50,
   "metadata": {
    "ExecuteTime": {
     "end_time": "2020-11-09T10:51:52.087000+01:00",
     "start_time": "2020-11-09T09:51:51.566Z"
    }
   },
   "outputs": [
    {
     "data": {
      "text/plain": [
       "x_rec (generic function with 1 method)"
      ]
     },
     "execution_count": 50,
     "metadata": {},
     "output_type": "execute_result"
    }
   ],
   "source": [
    "function x_rec(w::Vector{Float64}, y::Vector{Float64}, n::Int)::Float64\n",
    "    if n <= length(y)\n",
    "        return y[n]\n",
    "    end\n",
    "    x_n = 0\n",
    "    for i in 1:length(y)\n",
    "        x_n = x_n + w[i] * x_rec(w, y, n-i)\n",
    "    end\n",
    "    return x_n\n",
    "end"
   ]
  },
  {
   "cell_type": "code",
   "execution_count": 53,
   "metadata": {
    "ExecuteTime": {
     "end_time": "2020-11-09T10:51:52.558000+01:00",
     "start_time": "2020-11-09T09:51:52.434Z"
    }
   },
   "outputs": [
    {
     "data": {
      "text/plain": [
       "55.0"
      ]
     },
     "execution_count": 53,
     "metadata": {},
     "output_type": "execute_result"
    }
   ],
   "source": [
    "@assert x_rec([1., 1.], [1., 1.], 10) ≈ 55.\n",
    "\n",
    "x_rec([1., 1.], [1., 1.], 10)"
   ]
  },
  {
   "cell_type": "markdown",
   "metadata": {},
   "source": [
    "Implement a function `x_loop` computing $x_n$ using a loop."
   ]
  },
  {
   "cell_type": "code",
   "execution_count": 2,
   "metadata": {
    "ExecuteTime": {
     "end_time": "2020-11-09T10:51:53.514000+01:00",
     "start_time": "2020-11-09T09:51:53.422Z"
    }
   },
   "outputs": [
    {
     "data": {
      "text/plain": [
       "x_loop (generic function with 1 method)"
      ]
     },
     "execution_count": 2,
     "metadata": {},
     "output_type": "execute_result"
    }
   ],
   "source": [
    "function x_loop(w::Vector{Float64}, y::Vector{Float64}, n::Int)::Float64\n",
    "    x = Vector{Float64}(undef, n)\n",
    "    d = length(w)\n",
    "    x[1:min(d, n)] .= y[1:min(d, n)]\n",
    "    for k = d+1:n\n",
    "        x[k] = sum(w[i] * x[k-i] for i = 1:d)\n",
    "    end\n",
    "    return x[n]\n",
    "end\n",
    "        \n",
    "        "
   ]
  },
  {
   "cell_type": "code",
   "execution_count": 3,
   "metadata": {
    "ExecuteTime": {
     "end_time": "2020-11-09T10:51:54.069000+01:00",
     "start_time": "2020-11-09T09:51:53.949Z"
    }
   },
   "outputs": [],
   "source": [
    "@assert x_loop([1., 1.], [1., 1.], 10) ≈ 55."
   ]
  },
  {
   "cell_type": "markdown",
   "metadata": {},
   "source": [
    "Implement a function `build_M` constructing the matrix\n",
    "\\begin{align*}\n",
    "M = \\begin{pmatrix}\n",
    "0 & 1 & 0 & \\cdots & & 0 \\\\\n",
    "0 & 0 & 1 & 0 & \\cdots & 0 \\\\\n",
    "  & & \\ddots & \\ddots & \\ddots & \\vdots\\\\\n",
    "\\vdots & & &  0 & 1 & 0 \\\\\n",
    "& & & & 0 & 1 \\\\\n",
    "w_1 & w_2 &  & \\cdots &  & w_d\n",
    "\\end{pmatrix}\n",
    "\\end{align*}"
   ]
  },
  {
   "cell_type": "code",
   "execution_count": 9,
   "metadata": {
    "ExecuteTime": {
     "end_time": "2020-11-09T10:51:55.868000+01:00",
     "start_time": "2020-11-09T09:51:55.778Z"
    }
   },
   "outputs": [
    {
     "data": {
      "text/plain": [
       "build_M (generic function with 1 method)"
      ]
     },
     "execution_count": 9,
     "metadata": {},
     "output_type": "execute_result"
    }
   ],
   "source": [
    "function build_M(w::Vector{Float64})::Matrix{Float64}\n",
    "     d = length(w)\n",
    "    M = zeros(Float64, d, d)\n",
    "    for i = 1:d-1\n",
    "        M[i, i+1] = 1.\n",
    "    end\n",
    "    M[end, :] .= w\n",
    "    return M\n",
    "end"
   ]
  },
  {
   "cell_type": "code",
   "execution_count": 10,
   "metadata": {
    "ExecuteTime": {
     "end_time": "2020-11-09T10:51:57.054000+01:00",
     "start_time": "2020-11-09T09:51:56.786Z"
    }
   },
   "outputs": [],
   "source": [
    "@assert build_M([1., 2., 3.]) ≈ [0. 1. 0. ; 0. 0. 1. ; 1. 2. 3.]"
   ]
  },
  {
   "cell_type": "markdown",
   "metadata": {},
   "source": [
    "Implement a function `x_pow` computing $x_n$ using the powers of $M$."
   ]
  },
  {
   "cell_type": "code",
   "execution_count": null,
   "metadata": {
    "ExecuteTime": {
     "end_time": "2020-11-09T10:51:58.318000+01:00",
     "start_time": "2020-11-09T09:51:58.240Z"
    }
   },
   "outputs": [],
   "source": []
  },
  {
   "cell_type": "code",
   "execution_count": null,
   "metadata": {
    "ExecuteTime": {
     "end_time": "2020-11-09T10:51:59.057000+01:00",
     "start_time": "2020-11-09T09:51:58.901Z"
    }
   },
   "outputs": [],
   "source": [
    "@assert x_pow([1., 1.], [1., 1.], 10) ≈ 55."
   ]
  },
  {
   "cell_type": "markdown",
   "metadata": {},
   "source": [
    "Implement a function `pow_eigen` computing the powers of a matrix using its eigendecomposition, assuming it exists. You can compute it using the library `LinearAlgebra`."
   ]
  },
  {
   "cell_type": "code",
   "execution_count": null,
   "metadata": {
    "ExecuteTime": {
     "end_time": "2020-11-09T10:52:01.266000+01:00",
     "start_time": "2020-11-09T09:52:01.265Z"
    }
   },
   "outputs": [],
   "source": [
    "using LinearAlgebra"
   ]
  },
  {
   "cell_type": "code",
   "execution_count": null,
   "metadata": {
    "ExecuteTime": {
     "end_time": "2020-11-09T10:52:02.038000+01:00",
     "start_time": "2020-11-09T09:52:01.952Z"
    }
   },
   "outputs": [],
   "source": []
  },
  {
   "cell_type": "code",
   "execution_count": null,
   "metadata": {
    "ExecuteTime": {
     "end_time": "2020-11-09T10:52:03.451000+01:00",
     "start_time": "2020-11-09T09:52:02.611Z"
    }
   },
   "outputs": [],
   "source": [
    "randM = rand(3, 3)\n",
    "@assert pow_eigen(randM + randM', 5) ≈ (randM + randM')^5"
   ]
  },
  {
   "cell_type": "markdown",
   "metadata": {},
   "source": [
    "Implement a function `x_eigen` computing $x_n$ using the eigendecomposition of $M$."
   ]
  },
  {
   "cell_type": "code",
   "execution_count": null,
   "metadata": {
    "ExecuteTime": {
     "end_time": "2020-11-09T10:52:26.556000+01:00",
     "start_time": "2020-11-09T09:52:26.481Z"
    }
   },
   "outputs": [],
   "source": []
  },
  {
   "cell_type": "code",
   "execution_count": null,
   "metadata": {
    "ExecuteTime": {
     "end_time": "2020-11-09T10:52:27.038000+01:00",
     "start_time": "2020-11-09T09:52:27.025Z"
    }
   },
   "outputs": [],
   "source": [
    "@assert x_eigen([1., 1.], [1., 1.], 10) ≈ 55."
   ]
  },
  {
   "cell_type": "markdown",
   "metadata": {},
   "source": [
    "Plot and the execution times of all your functions for various values of $n$. Conclude on the fastest approach."
   ]
  },
  {
   "cell_type": "code",
   "execution_count": 8,
   "metadata": {
    "ExecuteTime": {
     "end_time": "2020-11-09T10:52:29.417000+01:00",
     "start_time": "2020-11-09T09:52:29.343Z"
    }
   },
   "outputs": [
    {
     "data": {
      "text/plain": [
       "true"
      ]
     },
     "execution_count": 8,
     "metadata": {},
     "output_type": "execute_result"
    }
   ],
   "source": [
    "1 == true"
   ]
  },
  {
   "cell_type": "markdown",
   "metadata": {},
   "source": [
    "Bonus question: why do both methods using matrix powers have sublinear complexity?"
   ]
  },
  {
   "cell_type": "markdown",
   "metadata": {},
   "source": [
    "## 3. Graph algorithms"
   ]
  },
  {
   "cell_type": "markdown",
   "metadata": {},
   "source": [
    "### Data structure"
   ]
  },
  {
   "cell_type": "markdown",
   "metadata": {},
   "source": [
    "Implement a weighted directed graph data structure called `Graph` where vertices are labelled from $1$ to $n$. Make sure that its attributes can be modified by putting the keyword `mutable` before `struct`."
   ]
  },
  {
   "cell_type": "code",
   "execution_count": 11,
   "metadata": {
    "ExecuteTime": {
     "end_time": "2020-11-09T10:52:48.485000+01:00",
     "start_time": "2020-11-09T09:52:48.483Z"
    }
   },
   "outputs": [],
   "source": [
    "mutable struct Graph\n",
    "    n::Int\n",
    "    adj::Vector{Vector{Int}}\n",
    "    weights::Dict{Tuple{Int, Int}, Float64}\n",
    "end"
   ]
  },
  {
   "cell_type": "markdown",
   "metadata": {},
   "source": [
    "### Describing a graph"
   ]
  },
  {
   "cell_type": "markdown",
   "metadata": {},
   "source": [
    "Implement a function `nv(G)` counting the vertices of a graph"
   ]
  },
  {
   "cell_type": "code",
   "execution_count": null,
   "metadata": {
    "ExecuteTime": {
     "end_time": "2020-11-09T10:52:49.777000+01:00",
     "start_time": "2020-11-09T09:52:49.696Z"
    }
   },
   "outputs": [],
   "source": [
    "function nv(G::Graph)::Int\n",
    "    return G.n\n",
    "end"
   ]
  },
  {
   "cell_type": "markdown",
   "metadata": {},
   "source": [
    "Implement a function `vertices(G)` listing the vertices of a graph"
   ]
  },
  {
   "cell_type": "code",
   "execution_count": 12,
   "metadata": {
    "ExecuteTime": {
     "end_time": "2020-11-09T10:52:50.486000+01:00",
     "start_time": "2020-11-09T09:52:50.386Z"
    }
   },
   "outputs": [
    {
     "data": {
      "text/plain": [
       "vertices (generic function with 1 method)"
      ]
     },
     "execution_count": 12,
     "metadata": {},
     "output_type": "execute_result"
    }
   ],
   "source": [
    "function vertices(G::Graph)::Vector{Int}\n",
    "    V = collect(1:G.n)\n",
    "    return V\n",
    "end"
   ]
  },
  {
   "cell_type": "markdown",
   "metadata": {},
   "source": [
    "Implement a function `has_edge(G, u, v)` checking whether edge $(u, v)$ exists"
   ]
  },
  {
   "cell_type": "code",
   "execution_count": 17,
   "metadata": {
    "ExecuteTime": {
     "end_time": "2020-11-09T10:52:51.041000+01:00",
     "start_time": "2020-11-09T09:52:50.960Z"
    }
   },
   "outputs": [
    {
     "data": {
      "text/plain": [
       "has_edge (generic function with 1 method)"
      ]
     },
     "execution_count": 17,
     "metadata": {},
     "output_type": "execute_result"
    }
   ],
   "source": [
    "function has_edge(G::Graph, u::Int, v::Int)::Bool return(v in G.adj[u]) end\n",
    "    "
   ]
  },
  {
   "cell_type": "markdown",
   "metadata": {
    "ExecuteTime": {
     "end_time": "2020-10-25T21:15:15.591000+01:00",
     "start_time": "2020-10-25T20:15:15.584Z"
    }
   },
   "source": [
    "Implement the functions `inneighbors(G, v)` and `outneighbors(G, u)`, which list the parents and children of a vertex respectively"
   ]
  },
  {
   "cell_type": "code",
   "execution_count": 18,
   "metadata": {
    "ExecuteTime": {
     "end_time": "2020-11-09T10:52:51.663000+01:00",
     "start_time": "2020-11-09T09:52:51.584Z"
    }
   },
   "outputs": [
    {
     "data": {
      "text/plain": [
       "inneighbors (generic function with 1 method)"
      ]
     },
     "execution_count": 18,
     "metadata": {},
     "output_type": "execute_result"
    }
   ],
   "source": [
    "function outneighbors(G::Graph, u::Int)::Vector{Int}\n",
    "    return G.adj[u]\n",
    "end\n",
    "\n",
    "function inneighbors(G::Graph, v::Int)::Vector{Int}\n",
    "    return [u for u in vertices(G) if has_edge(G, u, v)]\n",
    "end"
   ]
  },
  {
   "cell_type": "markdown",
   "metadata": {},
   "source": [
    "Implement a function `edges(G)` listing the edges of a graph"
   ]
  },
  {
   "cell_type": "code",
   "execution_count": 19,
   "metadata": {
    "ExecuteTime": {
     "end_time": "2020-11-09T10:52:52.250000+01:00",
     "start_time": "2020-11-09T09:52:52.172Z"
    }
   },
   "outputs": [
    {
     "data": {
      "text/plain": [
       "edges (generic function with 1 method)"
      ]
     },
     "execution_count": 19,
     "metadata": {},
     "output_type": "execute_result"
    }
   ],
   "source": [
    "function edges(G::Graph)::Vector{Tuple{Int, Int}}\n",
    "    E = collect((u, v) for u in vertices(G) for v in outneighbors(G, u))\n",
    "    return E\n",
    "end"
   ]
  },
  {
   "cell_type": "markdown",
   "metadata": {},
   "source": [
    "Implement a function `weight(G, u, v)` computing the weight of an arc"
   ]
  },
  {
   "cell_type": "code",
   "execution_count": 25,
   "metadata": {
    "ExecuteTime": {
     "end_time": "2020-11-09T10:52:52.826000+01:00",
     "start_time": "2020-11-09T09:52:52.748Z"
    }
   },
   "outputs": [
    {
     "data": {
      "text/plain": [
       "weight (generic function with 1 method)"
      ]
     },
     "execution_count": 25,
     "metadata": {},
     "output_type": "execute_result"
    }
   ],
   "source": [
    "function weight(G::Graph, u::Int, v::Int)::Float64\n",
    "    return G.weights[(u,v)]\n",
    "end\n"
   ]
  },
  {
   "cell_type": "markdown",
   "metadata": {},
   "source": [
    "You can use the following function to plot a small graph:"
   ]
  },
  {
   "cell_type": "code",
   "execution_count": 21,
   "metadata": {
    "ExecuteTime": {
     "end_time": "2020-11-09T10:52:56.215000+01:00",
     "start_time": "2020-11-09T09:52:53.356Z"
    }
   },
   "outputs": [
    {
     "name": "stderr",
     "output_type": "stream",
     "text": [
      "┌ Info: Precompiling LightGraphs [093fc24a-ae57-5d10-9952-331d41423f4d]\n",
      "└ @ Base loading.jl:1278\n",
      "┌ Info: Precompiling GraphPlot [a2cc645c-3eea-5389-862e-a155d0052231]\n",
      "└ @ Base loading.jl:1278\n"
     ]
    },
    {
     "data": {
      "text/plain": [
       "plot_graph (generic function with 1 method)"
      ]
     },
     "execution_count": 21,
     "metadata": {},
     "output_type": "execute_result"
    }
   ],
   "source": [
    "import LightGraphs\n",
    "using GraphPlot\n",
    "\n",
    "function plot_graph(G::Graph)\n",
    "    LG = LightGraphs.SimpleGraph(nb_vertices(G))\n",
    "    for (u, v) in edges(G)\n",
    "        add_edge!(LG, u, v)\n",
    "    end\n",
    "    plotg(LG, nodelabel=1:nv(LG))\n",
    "end"
   ]
  },
  {
   "cell_type": "markdown",
   "metadata": {},
   "source": [
    "### Modifying a graph"
   ]
  },
  {
   "cell_type": "markdown",
   "metadata": {},
   "source": [
    "Implement functions `add_vertex!(G)` and `add_edge!(G, u, v, weight)`."
   ]
  },
  {
   "cell_type": "code",
   "execution_count": 28,
   "metadata": {
    "ExecuteTime": {
     "end_time": "2020-11-09T10:52:59.625000+01:00",
     "start_time": "2020-11-09T09:52:59.172Z"
    },
    "scrolled": true
   },
   "outputs": [
    {
     "data": {
      "text/plain": [
       "add_edge! (generic function with 1 method)"
      ]
     },
     "execution_count": 28,
     "metadata": {},
     "output_type": "execute_result"
    }
   ],
   "source": [
    "function add_vertex!(G::Graph)\n",
    "    G.n += 1\n",
    "    push!(G.adj, Int[])\n",
    "end\n",
    "\n",
    "function add_edge!(G::Graph, u::Int, v::Int, weight::Float64)\n",
    "    if not v in outneighbors(u)\n",
    "        push!(G.adj[u],v)\n",
    "    end\n",
    "    G.weights[(u,v)]=weight\n",
    "end"
   ]
  },
  {
   "cell_type": "code",
   "execution_count": 44,
   "metadata": {},
   "outputs": [
    {
     "ename": "LoadError",
     "evalue": "MethodError: no method matching setindex!(::Type{Dict{Tuple{Int64,Int64},Float64}}, ::Float64, ::Tuple{Int64,Int64})",
     "output_type": "error",
     "traceback": [
      "MethodError: no method matching setindex!(::Type{Dict{Tuple{Int64,Int64},Float64}}, ::Float64, ::Tuple{Int64,Int64})",
      "",
      "Stacktrace:",
      " [1] top-level scope at In[44]:10",
      " [2] include_string(::Function, ::Module, ::String, ::String) at .\\loading.jl:1091"
     ]
    }
   ],
   "source": [
    "#Test de création d'un graphe\n",
    "\n",
    "n = 2\n",
    "adj_test = Vector{Vector{Int}}(undef, n)\n",
    "w_test = Dict{Tuple{Int, Int}, Float64}\n",
    "\n",
    "adj_test[1] = [2]\n",
    "adj_test[2] = Int[]\n",
    "\n",
    "w_test[(1,2)] = 5.\n"
   ]
  },
  {
   "cell_type": "markdown",
   "metadata": {},
   "source": [
    "### Shortest paths"
   ]
  },
  {
   "cell_type": "markdown",
   "metadata": {
    "ExecuteTime": {
     "end_time": "2020-11-04T20:23:48.730000+01:00",
     "start_time": "2020-11-04T19:23:48.691Z"
    }
   },
   "source": [
    "Implement the Ford-Bellman algorithm"
   ]
  },
  {
   "cell_type": "code",
   "execution_count": null,
   "metadata": {
    "ExecuteTime": {
     "end_time": "2020-11-09T10:53:01.492000+01:00",
     "start_time": "2020-11-09T09:53:01.412Z"
    }
   },
   "outputs": [],
   "source": []
  },
  {
   "cell_type": "markdown",
   "metadata": {},
   "source": [
    "Implement depth-first search and topological sorting within a function `dfs`"
   ]
  },
  {
   "cell_type": "code",
   "execution_count": null,
   "metadata": {
    "ExecuteTime": {
     "end_time": "2020-11-05T15:22:50.472000+01:00",
     "start_time": "2020-11-05T14:22:50.378Z"
    }
   },
   "outputs": [],
   "source": []
  },
  {
   "cell_type": "markdown",
   "metadata": {},
   "source": [
    "Implement Dijkstra's algorithm, either in a naive way or using the priority queue of `DataStructures`"
   ]
  },
  {
   "cell_type": "code",
   "execution_count": null,
   "metadata": {},
   "outputs": [],
   "source": []
  },
  {
   "cell_type": "markdown",
   "metadata": {},
   "source": [
    "### Spanning tree"
   ]
  },
  {
   "cell_type": "markdown",
   "metadata": {},
   "source": [
    "Implement Kruskal's algorithm"
   ]
  },
  {
   "cell_type": "code",
   "execution_count": null,
   "metadata": {},
   "outputs": [],
   "source": []
  },
  {
   "cell_type": "markdown",
   "metadata": {},
   "source": [
    "### Flows and matchings"
   ]
  },
  {
   "cell_type": "markdown",
   "metadata": {},
   "source": [
    "Implement the Edmunds-Karp algorithm, using edge weights as the capacities"
   ]
  },
  {
   "cell_type": "code",
   "execution_count": null,
   "metadata": {},
   "outputs": [],
   "source": []
  },
  {
   "cell_type": "markdown",
   "metadata": {},
   "source": [
    "Implement a function checking whether a graph is bipartite"
   ]
  },
  {
   "cell_type": "code",
   "execution_count": null,
   "metadata": {},
   "outputs": [],
   "source": []
  },
  {
   "cell_type": "markdown",
   "metadata": {
    "ExecuteTime": {
     "end_time": "2020-11-04T20:26:01.473000+01:00",
     "start_time": "2020-11-04T19:26:01.450Z"
    }
   },
   "source": [
    "Implement the Hungarian algorithm"
   ]
  },
  {
   "cell_type": "code",
   "execution_count": null,
   "metadata": {},
   "outputs": [],
   "source": []
  },
  {
   "cell_type": "markdown",
   "metadata": {},
   "source": [
    "### Test your functions on real graphs"
   ]
  },
  {
   "cell_type": "code",
   "execution_count": null,
   "metadata": {},
   "outputs": [],
   "source": []
  },
  {
   "cell_type": "markdown",
   "metadata": {},
   "source": [
    "## 4. Mathematical programming"
   ]
  },
  {
   "cell_type": "markdown",
   "metadata": {},
   "source": [
    "Implement the LP formulation of the maximum flow problem"
   ]
  },
  {
   "cell_type": "code",
   "execution_count": null,
   "metadata": {},
   "outputs": [],
   "source": []
  },
  {
   "cell_type": "markdown",
   "metadata": {},
   "source": [
    "Implement the LP resolution method for the maximum spanning tree"
   ]
  },
  {
   "cell_type": "code",
   "execution_count": null,
   "metadata": {},
   "outputs": [],
   "source": []
  }
 ],
 "metadata": {
  "kernelspec": {
   "display_name": "Julia 1.5.3",
   "language": "julia",
   "name": "julia-1.5"
  },
  "language_info": {
   "file_extension": ".jl",
   "mimetype": "application/julia",
   "name": "julia",
   "version": "1.5.3"
  },
  "latex_envs": {
   "LaTeX_envs_menu_present": true,
   "autoclose": false,
   "autocomplete": true,
   "bibliofile": "biblio.bib",
   "cite_by": "apalike",
   "current_citInitial": 1,
   "eqLabelWithNumbers": true,
   "eqNumInitial": 1,
   "hotkeys": {
    "equation": "Ctrl-E",
    "itemize": "Ctrl-I"
   },
   "labels_anchors": false,
   "latex_user_defs": false,
   "report_style_numbering": false,
   "user_envs_cfg": false
  }
 },
 "nbformat": 4,
 "nbformat_minor": 2
}
